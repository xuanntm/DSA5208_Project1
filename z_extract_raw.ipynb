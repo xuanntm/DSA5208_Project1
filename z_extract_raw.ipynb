{
 "cells": [
  {
   "cell_type": "code",
   "execution_count": 1,
   "id": "04edb584",
   "metadata": {},
   "outputs": [],
   "source": [
    "import pandas as pd\n",
    "\n",
    "expected_size = 1_600_000\n",
    "# Define the input and output file paths\n",
    "input_file = 'sample_data/nytaxi2022_focus.csv'\n",
    "output_file = f'sample_data/nytaxi2022_{expected_size}.csv'"
   ]
  },
  {
   "cell_type": "code",
   "execution_count": 2,
   "id": "fae94dd3",
   "metadata": {},
   "outputs": [
    {
     "name": "stdout",
     "output_type": "stream",
     "text": [
      "Successfully extracted the first 1600000 records from \"sample_data/nytaxi2022_focus.csv\"\n",
      "Saved the records to \"sample_data/nytaxi2022_1600000.csv\"\n"
     ]
    }
   ],
   "source": [
    "try:\n",
    "    # Read the first 1000 rows from the CSV file\n",
    "    focus_columns = ['tpep_pickup_datetime','tpep_dropoff_datetime','passenger_count','trip_distance','RatecodeID','PULocationID','DOLocationID','payment_type','extra','total_amount']\n",
    "    \n",
    "    df = pd.read_csv(input_file, nrows=expected_size, usecols=focus_columns)\n",
    "    df.to_csv(output_file, index=False)\n",
    "    \n",
    "    print(f'Successfully extracted the first {expected_size} records from \"{input_file}\"')\n",
    "    print(f'Saved the records to \"{output_file}\"')\n",
    "\n",
    "except FileNotFoundError:\n",
    "    print(f'Error: The file \"{input_file}\" was not found.')\n",
    "except Exception as e:\n",
    "    print(f'An error occurred: {e}')"
   ]
  }
 ],
 "metadata": {
  "kernelspec": {
   "display_name": "venv",
   "language": "python",
   "name": "python3"
  },
  "language_info": {
   "codemirror_mode": {
    "name": "ipython",
    "version": 3
   },
   "file_extension": ".py",
   "mimetype": "text/x-python",
   "name": "python",
   "nbconvert_exporter": "python",
   "pygments_lexer": "ipython3",
   "version": "3.12.2"
  }
 },
 "nbformat": 4,
 "nbformat_minor": 5
}
